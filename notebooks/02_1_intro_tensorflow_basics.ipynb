{
 "cells": [
  {
   "cell_type": "markdown",
   "metadata": {
    "collapsed": true
   },
   "source": [
    "# TensorFlow Basics"
   ]
  },
  {
   "cell_type": "markdown",
   "metadata": {},
   "source": [
    "This notebook serves as a starting point for TensorFlow beginners. It covers simple basics such as a multiplication of two constants, using a session, computing a function and a more elaborate implementation of a linear regression.\n",
    "\n",
    "Help:\n",
    "- TensorFlow API Documentation [https://www.tensorflow.org/api_docs/](https://www.tensorflow.org/api_docs/)\n",
    "\n",
    "<hr>"
   ]
  },
  {
   "cell_type": "markdown",
   "metadata": {},
   "source": [
    "# Multiplying two constants\n",
    "\n",
    "<hr>"
   ]
  },
  {
   "cell_type": "code",
   "execution_count": 1,
   "metadata": {},
   "outputs": [
    {
     "name": "stdout",
     "output_type": "stream",
     "text": [
      "2.0.0\n"
     ]
    }
   ],
   "source": [
    "import tensorflow as tf\n",
    "\n",
    "print(tf.__version__)"
   ]
  },
  {
   "cell_type": "code",
   "execution_count": 2,
   "metadata": {},
   "outputs": [
    {
     "name": "stdout",
     "output_type": "stream",
     "text": [
      "tf.Tensor([ 5 12 21 32], shape=(4,), dtype=int32)\n"
     ]
    }
   ],
   "source": [
    "# Initialize two constants\n",
    "x1 = tf.constant([1,2,3,4])\n",
    "x2 = tf.constant([5,6,7,8])\n",
    "\n",
    "# Multiply\n",
    "result = tf.multiply(x1, x2)\n",
    "\n",
    "# Does not print the result\n",
    "print(result)"
   ]
  },
  {
   "cell_type": "code",
   "execution_count": 7,
   "metadata": {},
   "outputs": [
    {
     "name": "stdout",
     "output_type": "stream",
     "text": [
      "Collecting matplotlib\n",
      "\u001b[?25l  Downloading https://files.pythonhosted.org/packages/f5/1e/5cfcafca1ebe7b5fc08dcc2fe5efc7307e6970de0dd2999a7757311a7aec/matplotlib-3.1.3-cp37-cp37m-macosx_10_9_x86_64.whl (13.2MB)\n",
      "\u001b[K     |████████████████████████████████| 13.2MB 4.0MB/s eta 0:00:01\n",
      "\u001b[?25hCollecting kiwisolver>=1.0.1\n",
      "  Using cached https://files.pythonhosted.org/packages/df/93/8bc9b52a8846be2b9572aa0a7c881930939b06e4abe1162da6a0430b794f/kiwisolver-1.1.0-cp37-cp37m-macosx_10_6_intel.macosx_10_9_intel.macosx_10_9_x86_64.macosx_10_10_intel.macosx_10_10_x86_64.whl\n",
      "Requirement already satisfied: python-dateutil>=2.1 in /Users/rbaumann/Virtualenvs/tf2/lib/python3.7/site-packages (from matplotlib) (2.8.1)\n",
      "Collecting pyparsing!=2.0.4,!=2.1.2,!=2.1.6,>=2.0.1\n",
      "\u001b[?25l  Downloading https://files.pythonhosted.org/packages/5d/bc/1e58593167fade7b544bfe9502a26dc860940a79ab306e651e7f13be68c2/pyparsing-2.4.6-py2.py3-none-any.whl (67kB)\n",
      "\u001b[K     |████████████████████████████████| 71kB 17.8MB/s eta 0:00:01\n",
      "\u001b[?25hCollecting cycler>=0.10\n",
      "  Using cached https://files.pythonhosted.org/packages/f7/d2/e07d3ebb2bd7af696440ce7e754c59dd546ffe1bbe732c8ab68b9c834e61/cycler-0.10.0-py2.py3-none-any.whl\n",
      "Requirement already satisfied: numpy>=1.11 in /Users/rbaumann/Virtualenvs/tf2/lib/python3.7/site-packages (from matplotlib) (1.17.4)\n",
      "Requirement already satisfied: setuptools in /Users/rbaumann/Virtualenvs/tf2/lib/python3.7/site-packages (from kiwisolver>=1.0.1->matplotlib) (41.6.0)\n",
      "Requirement already satisfied: six>=1.5 in /Users/rbaumann/Virtualenvs/tf2/lib/python3.7/site-packages (from python-dateutil>=2.1->matplotlib) (1.13.0)\n",
      "Installing collected packages: kiwisolver, pyparsing, cycler, matplotlib\n",
      "Successfully installed cycler-0.10.0 kiwisolver-1.1.0 matplotlib-3.1.3 pyparsing-2.4.6\n",
      "\u001b[33mWARNING: You are using pip version 19.3.1; however, version 20.0.2 is available.\n",
      "You should consider upgrading via the 'pip install --upgrade pip' command.\u001b[0m\n",
      "Note: you may need to restart the kernel to use updated packages.\n"
     ]
    }
   ],
   "source": [
    "%pip install matplotlib"
   ]
  },
  {
   "cell_type": "markdown",
   "metadata": {},
   "source": [
    "# Computing a function\n",
    "\n",
    "- implements y = x^2+b\n",
    "\n",
    "<hr>"
   ]
  },
  {
   "cell_type": "code",
   "execution_count": 14,
   "metadata": {},
   "outputs": [
    {
     "name": "stdout",
     "output_type": "stream",
     "text": [
      "[2 2 1 3 0 2 4 1 4 1]\n",
      "[ 6  6  3 11  2  6 18  3 18  3]\n"
     ]
    },
    {
     "data": {
      "image/png": "[encoded data removed]",
      "text/plain": [
       "<Figure size 432x288 with 1 Axes>"
      ]
     },
     "metadata": {
      "needs_background": "light"
     },
     "output_type": "display_data"
    }
   ],
   "source": [
    "import tensorflow as tf\n",
    "import numpy as np\n",
    "import matplotlib.pyplot as plt\n",
    "\n",
    "# define what is needed\n",
    "def f(x):\n",
    "    b = 2 # b is a constant of value 2.\n",
    "    y = tf.square(x)\n",
    "    y = tf.add(y, b)\n",
    "    return y\n",
    "\n",
    "input = np.random.randint(5, size=10)\n",
    "print(input)\n",
    "plt.plot(input)\n",
    "evaled_y = f(input)\n",
    "\n",
    "# flattens the numpy array\n",
    "evaled_y = evaled_y.numpy().flatten()\n",
    "print(evaled_y)\n",
    "plt.plot(evaled_y)\n",
    "\n",
    "plt.show()"
   ]
  },
  {
   "cell_type": "markdown",
   "metadata": {},
   "source": [
    "# Linear regression\n",
    "\n",
    "- implements a linear regression model for house prices\n",
    "- as input you have the size of the single houses and their corresponding prices\n",
    "- covers placeholders and variables\n",
    "\n",
    "<hr>"
   ]
  },
  {
   "cell_type": "code",
   "execution_count": 15,
   "metadata": {},
   "outputs": [],
   "source": [
    "import tensorflow as tf\n",
    "import numpy as np\n",
    "import matplotlib.pyplot as plt"
   ]
  },
  {
   "cell_type": "code",
   "execution_count": 16,
   "metadata": {},
   "outputs": [],
   "source": [
    "# data as numpy arrays\n",
    "\n",
    "x_input_train = np.asarray([ 2104,  1600,  2400,  1416,  3000,  1985,  1534,  1427,\n",
    "  1380,  1494,  1940,  2000,  1890,  4478,  1268,  2300,\n",
    "  1320,  1236,  2609,  3031,  1767,  1888,  1604,  1962,\n",
    "  3890,  1100,  1458,  2526,  2200,  2637,  1839,  1000,\n",
    "  2040,  3137,  1811,  1437,  1239,  2132,  4215,  2162,\n",
    "  1664,  2238,  2567,  1200,   852,  1852,  1203 ])\n",
    "\n",
    "y_input_train = np.asarray([ 399900,  329900,  369000,  232000,  539900,  299900,  314900,  198999,\n",
    "  212000,  242500,  239999,  347000,  329999,  699900,  259900,  449900,\n",
    "  299900,  199900,  499998,  599000,  252900,  255000,  242900,  259900,\n",
    "  573900,  249900,  464500,  469000,  475000,  299900,  349900,  169900,\n",
    "  314900,  579900,  285900,  249900,  229900,  345000,  549000,  287000,\n",
    "  368500,  329900,  314000,  299000,  179900,  299900,  239500 ])\n",
    "\n",
    "\n",
    "x_input_test = np.asarray([ 1600, 1494, 1236, 1100, 3137, 2238 ])\n",
    "y_input_test = np.asarray([ 329900, 242500, 199900, 249900, 579900, 329900 ])\n",
    "\n",
    "# normalize data\n",
    "def normalize(array):\n",
    "    return (array - array.mean()) / array.std()\n",
    "\n",
    "x_input_train_n = normalize(x_input_train)\n",
    "y_input_train_n = normalize(y_input_train)\n",
    "x_input_test_n = normalize(x_input_test)\n",
    "y_input_test_n = normalize(y_input_test)"
   ]
  },
  {
   "cell_type": "code",
   "execution_count": 56,
   "metadata": {},
   "outputs": [
    {
     "name": "stdout",
     "output_type": "stream",
     "text": [
      "Loss is 0.381607995769883\n",
      "Loss is 0.3624253429217957\n",
      "Loss is 0.3464153532183816\n",
      "Loss is 0.33323345382243513\n",
      "Loss is 0.32238568941204787\n",
      "Loss is 0.31349290302342886\n",
      "Loss is 0.3059506174393253\n",
      "Loss is 0.2997170948075997\n",
      "Loss is 0.294475871044864\n",
      "Loss is 0.29021525671644716\n",
      "Loss is 0.2867726412992594\n",
      "Loss is 0.2838916523010478\n",
      "Loss is 0.2815113080109759\n",
      "Loss is 0.2794816220377925\n",
      "Loss is 0.27786184597848557\n",
      "Loss is 0.2764945949153063\n",
      "Loss is 0.2753719738374313\n",
      "Loss is 0.2744679486060255\n",
      "Loss is 0.2736840070141565\n",
      "Loss is 0.27300421910357847\n"
     ]
    },
    {
     "data": {
      "image/png": "[encoded data removed]",
      "text/plain": [
       "<Figure size 432x288 with 1 Axes>"
      ]
     },
     "metadata": {
      "needs_background": "light"
     },
     "output_type": "display_data"
    }
   ],
   "source": [
    "# define hypothesis function\n",
    "def h(X, weights, bias):\n",
    "    return tf.tensordot(X, weights, axes=1) + bias\n",
    "\n",
    "# cost function\n",
    "def mean_squared_error(Y, y_pred):\n",
    "    return tf.reduce_mean(tf.square(y_pred - Y))\n",
    "\n",
    "# derivative of cost function\n",
    "def mean_squared_error_deriv(Y, y_pred):\n",
    "    return tf.reshape(tf.reduce_mean(2 * (y_pred - Y)), [1, 1])\n",
    "\n",
    "# define hyperparameter\n",
    "num_epochs = 20\n",
    "batch_size = 1\n",
    "learning_rate = 0.001\n",
    "\n",
    "\n",
    "# Build our dataset\n",
    "dataset = tf.data.Dataset.from_tensor_slices((x_input_train_n, y_input_train_n)) \n",
    "dataset = dataset.shuffle(10000).repeat(num_epochs).batch(batch_size)\n",
    "iterator = dataset.__iter__()\n",
    "\n",
    "weights = tf.random.normal([1], dtype=tf.double) \n",
    "bias = 0\n",
    "\n",
    "epochs_plot = list()\n",
    "loss_plot = list()\n",
    "\n",
    "for i in range(num_epochs) :\n",
    "    \n",
    "    epoch_loss = list()\n",
    "    for b in range(int(len(x_input_train_n)/batch_size)):\n",
    "        x_batch , y_batch = iterator.get_next()\n",
    "   \n",
    "        output = h(x_batch, weights, bias) \n",
    "        loss = epoch_loss.append(mean_squared_error(y_batch, output).numpy())\n",
    "    \n",
    "        dJ_dH = mean_squared_error_deriv(y_batch, output)\n",
    "        dH_dW = x_batch\n",
    "        dJ_dW = tf.reduce_mean(dJ_dH * dH_dW)\n",
    "        dJ_dB = tf.reduce_mean(dJ_dH)\n",
    "    \n",
    "        weights -= (learning_rate * dJ_dW)\n",
    "        bias -= (learning_rate * dJ_dB) \n",
    "        \n",
    "    loss = np.array(epoch_loss).mean()\n",
    "    epochs_plot.append(i + 1)\n",
    "    loss_plot.append(loss) \n",
    "    \n",
    "    print('Loss is {}'.format(loss))\n",
    "    \n",
    "plt.plot( epochs_plot , loss_plot ) \n",
    "plt.show()"
   ]
  },
  {
   "cell_type": "code",
   "execution_count": 57,
   "metadata": {},
   "outputs": [
    {
     "name": "stdout",
     "output_type": "stream",
     "text": [
      "Mean Absolute Error = 0.3517535924911499\n"
     ]
    }
   ],
   "source": [
    "output = h(x_input_test_n.reshape((-1,1)), weights , bias) \n",
    "labels = y_input_test_n\n",
    "\n",
    "accuracy_op = tf.metrics.MeanAbsoluteError() \n",
    "accuracy_op.update_state(labels, output)\n",
    "print('Mean Absolute Error = {}'.format(accuracy_op.result().numpy()))"
   ]
  },
  {
   "cell_type": "code",
   "execution_count": null,
   "metadata": {},
   "outputs": [],
   "source": []
  },
  {
   "cell_type": "code",
   "execution_count": null,
   "metadata": {},
   "outputs": [],
   "source": []
  }
 ],
 "metadata": {
  "kernelspec": {
   "display_name": "Python 3",
   "language": "python",
   "name": "python3"
  },
  "language_info": {
   "codemirror_mode": {
    "name": "ipython",
    "version": 3
   },
   "file_extension": ".py",
   "mimetype": "text/x-python",
   "name": "python",
   "nbconvert_exporter": "python",
   "pygments_lexer": "ipython3",
   "version": "3.7.4"
  }
 },
 "nbformat": 4,
 "nbformat_minor": 1
}
