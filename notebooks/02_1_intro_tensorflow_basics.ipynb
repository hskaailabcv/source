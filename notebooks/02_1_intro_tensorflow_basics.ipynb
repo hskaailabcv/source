{
 "cells": [
  {
   "cell_type": "markdown",
   "metadata": {
    "collapsed": true
   },
   "source": [
    "# TensorFlow Basics"
   ]
  },
  {
   "cell_type": "markdown",
   "metadata": {},
   "source": [
    "This notebook serves as a starting point for TensorFlow beginners. It covers simple basics such as a multiplication of two constants, using a session, computing a function and a more elaborate implementation of a linear regression.\n",
    "\n",
    "Help:\n",
    "- TensorFlow API Documentation [https://www.tensorflow.org/api_docs/](https://www.tensorflow.org/api_docs/)\n",
    "\n",
    "<hr>"
   ]
  },
  {
   "cell_type": "markdown",
   "metadata": {},
   "source": [
    "# Multiplying two constants\n",
    "\n",
    "<hr>"
   ]
  },
  {
   "cell_type": "code",
   "execution_count": 1,
   "metadata": {},
   "outputs": [
    {
     "name": "stderr",
     "output_type": "stream",
     "text": [
      "/Users/rbaumann/Virtualenvs/tf1/lib/python3.7/site-packages/tensorflow/python/framework/dtypes.py:526: FutureWarning: Passing (type, 1) or '1type' as a synonym of type is deprecated; in a future version of numpy, it will be understood as (type, (1,)) / '(1,)type'.\n",
      "  _np_qint8 = np.dtype([(\"qint8\", np.int8, 1)])\n",
      "/Users/rbaumann/Virtualenvs/tf1/lib/python3.7/site-packages/tensorflow/python/framework/dtypes.py:527: FutureWarning: Passing (type, 1) or '1type' as a synonym of type is deprecated; in a future version of numpy, it will be understood as (type, (1,)) / '(1,)type'.\n",
      "  _np_quint8 = np.dtype([(\"quint8\", np.uint8, 1)])\n",
      "/Users/rbaumann/Virtualenvs/tf1/lib/python3.7/site-packages/tensorflow/python/framework/dtypes.py:528: FutureWarning: Passing (type, 1) or '1type' as a synonym of type is deprecated; in a future version of numpy, it will be understood as (type, (1,)) / '(1,)type'.\n",
      "  _np_qint16 = np.dtype([(\"qint16\", np.int16, 1)])\n",
      "/Users/rbaumann/Virtualenvs/tf1/lib/python3.7/site-packages/tensorflow/python/framework/dtypes.py:529: FutureWarning: Passing (type, 1) or '1type' as a synonym of type is deprecated; in a future version of numpy, it will be understood as (type, (1,)) / '(1,)type'.\n",
      "  _np_quint16 = np.dtype([(\"quint16\", np.uint16, 1)])\n",
      "/Users/rbaumann/Virtualenvs/tf1/lib/python3.7/site-packages/tensorflow/python/framework/dtypes.py:530: FutureWarning: Passing (type, 1) or '1type' as a synonym of type is deprecated; in a future version of numpy, it will be understood as (type, (1,)) / '(1,)type'.\n",
      "  _np_qint32 = np.dtype([(\"qint32\", np.int32, 1)])\n",
      "/Users/rbaumann/Virtualenvs/tf1/lib/python3.7/site-packages/tensorflow/python/framework/dtypes.py:535: FutureWarning: Passing (type, 1) or '1type' as a synonym of type is deprecated; in a future version of numpy, it will be understood as (type, (1,)) / '(1,)type'.\n",
      "  np_resource = np.dtype([(\"resource\", np.ubyte, 1)])\n"
     ]
    },
    {
     "name": "stdout",
     "output_type": "stream",
     "text": [
      "1.13.1\n"
     ]
    }
   ],
   "source": [
    "import tensorflow as tf\n",
    "\n",
    "print(tf.__version__)"
   ]
  },
  {
   "cell_type": "code",
   "execution_count": 3,
   "metadata": {},
   "outputs": [
    {
     "name": "stdout",
     "output_type": "stream",
     "text": [
      "Tensor(\"Mul_1:0\", shape=(4,), dtype=int32)\n"
     ]
    }
   ],
   "source": [
    "# Initialize two constants\n",
    "x1 = tf.constant([1,2,3,4])\n",
    "x2 = tf.constant([5,6,7,8])\n",
    "\n",
    "# Multiply\n",
    "result = tf.multiply(x1, x2)\n",
    "\n",
    "# Does not print the result\n",
    "print(result)"
   ]
  },
  {
   "cell_type": "markdown",
   "metadata": {},
   "source": [
    "# Same example with tf.Session()\n",
    "\n",
    "<hr>"
   ]
  },
  {
   "cell_type": "code",
   "execution_count": 4,
   "metadata": {},
   "outputs": [
    {
     "name": "stdout",
     "output_type": "stream",
     "text": [
      "[ 5 12 21 32]\n"
     ]
    }
   ],
   "source": [
    "# Initialize two constants\n",
    "x1 = tf.constant([1,2,3,4])\n",
    "x2 = tf.constant([5,6,7,8])\n",
    "\n",
    "# Multiply\n",
    "result = tf.multiply(x1, x2)\n",
    "\n",
    "# Intialize the Session\n",
    "sess = tf.Session()\n",
    "\n",
    "# Print the result\n",
    "print(sess.run(result))\n",
    "\n",
    "# Close the session\n",
    "sess.close()"
   ]
  },
  {
   "cell_type": "code",
   "execution_count": 5,
   "metadata": {},
   "outputs": [
    {
     "name": "stdout",
     "output_type": "stream",
     "text": [
      "[ 5 12 21 32]\n"
     ]
    }
   ],
   "source": [
    "# Initialize two constants\n",
    "x1 = tf.constant([1,2,3,4])\n",
    "x2 = tf.constant([5,6,7,8])\n",
    "\n",
    "# Multiply\n",
    "result = tf.multiply(x1, x2)\n",
    "\n",
    "# Initialize Session and run `result`\n",
    "with tf.Session() as sess:\n",
    "    output = sess.run(result)\n",
    "    print(output)"
   ]
  },
  {
   "cell_type": "markdown",
   "metadata": {},
   "source": [
    "# Computing a function\n",
    "\n",
    "- implements y = x^2+b\n",
    "\n",
    "<hr>"
   ]
  },
  {
   "cell_type": "code",
   "execution_count": 7,
   "metadata": {},
   "outputs": [
    {
     "name": "stdout",
     "output_type": "stream",
     "text": [
      "[1 0 3 4 3 1 1 0 4 3]\n",
      "[ 3.  2. 11. 18. 11.  3.  3.  2. 18. 11.]\n"
     ]
    },
    {
     "data": {
      "image/png": "[encoded data removed]",
      "text/plain": [
       "<Figure size 432x288 with 1 Axes>"
      ]
     },
     "metadata": {
      "needs_background": "light"
     },
     "output_type": "display_data"
    }
   ],
   "source": [
    "import tensorflow as tf\n",
    "import numpy as np\n",
    "import matplotlib.pyplot as plt\n",
    "%matplotlib inline\n",
    "\n",
    "# define what is needed\n",
    "x = tf.placeholder(tf.float32) # x is the input feeded on execution\n",
    "b = tf.constant(2.0) # b is a constant of value 2.0\n",
    "y = tf.square(x)\n",
    "y = tf.add(y, b)\n",
    "\n",
    "input = np.random.randint(5, size=10)\n",
    "print(input)\n",
    "plt.plot(input)\n",
    "\n",
    "sess = tf.Session()\n",
    "evaled_y = sess.run(y,feed_dict={x: input})\n",
    "\n",
    "# flattens the numpy array\n",
    "evaled_y = evaled_y.flatten()\n",
    "print(evaled_y)\n",
    "plt.plot(evaled_y)\n",
    "\n",
    "plt.show()"
   ]
  },
  {
   "cell_type": "markdown",
   "metadata": {},
   "source": [
    "# Linear regression\n",
    "\n",
    "- implements a linear regression model for house prices\n",
    "- as input you have the size of the single houses and their corresponding prices\n",
    "- covers placeholders and variables\n",
    "\n",
    "<hr>"
   ]
  },
  {
   "cell_type": "code",
   "execution_count": 8,
   "metadata": {},
   "outputs": [],
   "source": [
    "import tensorflow as tf\n",
    "import numpy as np\n",
    "import matplotlib.pyplot as plt"
   ]
  },
  {
   "cell_type": "code",
   "execution_count": 9,
   "metadata": {},
   "outputs": [],
   "source": [
    "# data as numpy arrays\n",
    "\n",
    "x_input_train = np.asarray([ 2104,  1600,  2400,  1416,  3000,  1985,  1534,  1427,\n",
    "  1380,  1494,  1940,  2000,  1890,  4478,  1268,  2300,\n",
    "  1320,  1236,  2609,  3031,  1767,  1888,  1604,  1962,\n",
    "  3890,  1100,  1458,  2526,  2200,  2637,  1839,  1000,\n",
    "  2040,  3137,  1811,  1437,  1239,  2132,  4215,  2162,\n",
    "  1664,  2238,  2567,  1200,   852,  1852,  1203 ])\n",
    "\n",
    "y_input_train = np.asarray([ 399900,  329900,  369000,  232000,  539900,  299900,  314900,  198999,\n",
    "  212000,  242500,  239999,  347000,  329999,  699900,  259900,  449900,\n",
    "  299900,  199900,  499998,  599000,  252900,  255000,  242900,  259900,\n",
    "  573900,  249900,  464500,  469000,  475000,  299900,  349900,  169900,\n",
    "  314900,  579900,  285900,  249900,  229900,  345000,  549000,  287000,\n",
    "  368500,  329900,  314000,  299000,  179900,  299900,  239500 ])\n",
    "\n",
    "\n",
    "x_input_test = np.asarray([ 1600, 1494, 1236, 1100, 3137, 2238 ])\n",
    "y_input_test = np.asarray([ 329900, 242500, 199900, 249900, 579900, 329900 ])\n",
    "\n",
    "# normalize data\n",
    "def normalize(array):\n",
    "    return (array - array.mean()) / array.std()\n",
    "\n",
    "x_input_train_n = normalize(x_input_train)\n",
    "y_input_train_n = normalize(y_input_train)\n",
    "x_input_test_n = normalize(x_input_test)\n",
    "y_input_test_n = normalize(y_input_test)"
   ]
  },
  {
   "cell_type": "code",
   "execution_count": 10,
   "metadata": {},
   "outputs": [
    {
     "name": "stdout",
     "output_type": "stream",
     "text": [
      "WARNING:tensorflow:From /Users/rbaumann/Virtualenvs/tf1/lib/python3.7/site-packages/tensorflow/python/framework/op_def_library.py:263: colocate_with (from tensorflow.python.framework.ops) is deprecated and will be removed in a future version.\n",
      "Instructions for updating:\n",
      "Colocations handled automatically by placer.\n",
      "WARNING:tensorflow:From /Users/rbaumann/Virtualenvs/tf1/lib/python3.7/site-packages/tensorflow/python/ops/losses/losses_impl.py:667: to_float (from tensorflow.python.ops.math_ops) is deprecated and will be removed in a future version.\n",
      "Instructions for updating:\n",
      "Use tf.cast instead.\n",
      "WARNING:tensorflow:From /Users/rbaumann/Virtualenvs/tf1/lib/python3.7/site-packages/tensorflow/python/ops/math_ops.py:3066: to_int32 (from tensorflow.python.ops.math_ops) is deprecated and will be removed in a future version.\n",
      "Instructions for updating:\n",
      "Use tf.cast instead.\n",
      "Iteration: 1 Error:  3.8330767\n",
      "Iteration: 11 Error:  0.53646755\n",
      "Iteration: 21 Error:  0.06518469\n",
      "Iteration: 31 Error:  0.004834928\n",
      "Iteration: 41 Error:  7.859638e-06\n",
      "Iteration: 51 Error:  0.00095911\n",
      "Iteration: 61 Error:  0.0017586665\n",
      "Iteration: 71 Error:  0.0021351043\n",
      "Iteration: 81 Error:  0.0022915008\n",
      "Iteration: 91 Error:  0.0023538577\n",
      "Iteration: 101 Error:  0.0023784034\n",
      "Iteration: 111 Error:  0.0023879765\n",
      "Iteration: 121 Error:  0.002391753\n",
      "Iteration: 131 Error:  0.0023932166\n",
      "Iteration: 141 Error:  0.002393788\n",
      "Iteration: 151 Error:  0.0023939922\n",
      "Iteration: 161 Error:  0.0023941088\n",
      "Iteration: 171 Error:  0.002394132\n",
      "Iteration: 181 Error:  0.002394132\n",
      "Iteration: 191 Error:  0.002394132\n",
      "Iteration: 201 Error:  0.002394132\n",
      "Iteration: 211 Error:  0.002394132\n",
      "Iteration: 221 Error:  0.002394132\n",
      "Iteration: 231 Error:  0.002394132\n",
      "Iteration: 241 Error:  0.002394132\n",
      "Iteration: 251 Error:  0.002394132\n",
      "Iteration: 261 Error:  0.002394132\n",
      "Iteration: 271 Error:  0.002394132\n",
      "Iteration: 281 Error:  0.002394132\n",
      "Iteration: 291 Error:  0.002394132\n"
     ]
    },
    {
     "data": {
      "image/png": "[encoded data removed]",
      "text/plain": [
       "<Figure size 432x288 with 1 Axes>"
      ]
     },
     "metadata": {
      "needs_background": "light"
     },
     "output_type": "display_data"
    }
   ],
   "source": [
    "# define placeholder for the input\n",
    "X = tf.placeholder(\"float\")\n",
    "Y = tf.placeholder(\"float\")\n",
    "\n",
    "# set model weights and bias\n",
    "W = tf.Variable(tf.random_normal([1]), name=\"weight\")\n",
    "b = tf.Variable(tf.random_normal([1]), name=\"bias\")\n",
    "\n",
    "# set parameters\n",
    "learning_rate = 0.001\n",
    "training_iteration = 300\n",
    "\n",
    "# define predictions\n",
    "predictions = tf.add(tf.multiply(X, W), b)\n",
    "\n",
    "# define error function\n",
    "error_function = tf.losses.mean_squared_error(Y,predictions)\n",
    "\n",
    "# define optimizer\n",
    "optimizer = tf.train.GradientDescentOptimizer(learning_rate).minimize(error_function) \n",
    "\n",
    "# init variables\n",
    "init = tf.global_variables_initializer()\n",
    "\n",
    "with tf.Session() as sess:\n",
    "    sess.run(init)\n",
    "    display_step = 10\n",
    "\n",
    "    for iteration in range(training_iteration):\n",
    "        for (x, y) in zip(x_input_train_n, y_input_train_n):\n",
    "            _, evaled_error = sess.run([optimizer, error_function], feed_dict={X: x, Y: y})\n",
    "            \n",
    "        if iteration % display_step == 0:\n",
    "            print(\"Iteration: \" + str(iteration + 1) + \" Error: \" + \" \" + str(evaled_error))\n",
    "    \n",
    "    # Display function and data\n",
    "    plt.figure()\n",
    "    plt.plot(x_input_train_n, y_input_train_n, 'ro', label='Normalized samples')\n",
    "    plt.plot(x_input_test_n, y_input_test_n, 'go', label='Normalized testing samples')\n",
    "    plt.plot(x_input_train_n, sess.run(predictions,feed_dict={X: x_input_train_n}), label='Fitted line')\n",
    "    plt.legend()\n",
    "    \n",
    "    plt.show()"
   ]
  },
  {
   "cell_type": "code",
   "execution_count": null,
   "metadata": {},
   "outputs": [],
   "source": []
  }
 ],
 "metadata": {
  "kernelspec": {
   "display_name": "Python 3",
   "language": "python",
   "name": "python3"
  },
  "language_info": {
   "codemirror_mode": {
    "name": "ipython",
    "version": 3
   },
   "file_extension": ".py",
   "mimetype": "text/x-python",
   "name": "python",
   "nbconvert_exporter": "python",
   "pygments_lexer": "ipython3",
   "version": "3.7.4"
  }
 },
 "nbformat": 4,
 "nbformat_minor": 1
}
